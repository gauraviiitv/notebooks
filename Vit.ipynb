{
  "cells": [
    {
      "cell_type": "markdown",
      "metadata": {
        "id": "view-in-github",
        "colab_type": "text"
      },
      "source": [
        "<a href=\"https://colab.research.google.com/github/gauraviiitv/notebooks/blob/main/Vit.ipynb\" target=\"_parent\"><img src=\"https://colab.research.google.com/assets/colab-badge.svg\" alt=\"Open In Colab\"/></a>"
      ]
    },
    {
      "cell_type": "code",
      "execution_count": null,
      "metadata": {
        "colab": {
          "base_uri": "https://localhost:8080/"
        },
        "id": "YLi5CtRbuu-m",
        "outputId": "1e112d4b-d679-48cd-f7ec-c3927b627ea2"
      },
      "outputs": [
        {
          "output_type": "stream",
          "name": "stdout",
          "text": [
            "Requirement already satisfied: rarfile in /usr/local/lib/python3.10/dist-packages (4.2)\n"
          ]
        }
      ],
      "source": [
        "!pip install rarfile"
      ]
    },
    {
      "cell_type": "code",
      "execution_count": null,
      "metadata": {
        "colab": {
          "base_uri": "https://localhost:8080/"
        },
        "id": "U6uKDI7bt3Ae",
        "outputId": "1cad0b00-3b6b-45a8-c717-8405f447e14b"
      },
      "outputs": [
        {
          "output_type": "stream",
          "name": "stdout",
          "text": [
            "Extraction successful.\n"
          ]
        }
      ],
      "source": [
        "import requests\n",
        "import rarfile\n",
        "import io\n",
        "\n",
        "# URL of the RAR file\n",
        "url = \"https://prod-dcd-datasets-public-files-eu-west-1.s3.eu-west-1.amazonaws.com/1ae209c4-dfaf-4702-b00c-683448279b59\"\n",
        "\n",
        "# Send an HTTP GET request to the URL\n",
        "response = requests.get(url)\n",
        "\n",
        "# Check if the request was successful (status code 200)\n",
        "if response.status_code == 200:\n",
        "    # Open the RAR file\n",
        "    with rarfile.RarFile(io.BytesIO(response.content)) as rar_ref:\n",
        "        # Extract all the contents to a directory\n",
        "        rar_ref.extractall(\"\")\n",
        "    print(\"Extraction successful.\")\n",
        "else:\n",
        "    print(\"Failed to download the RAR file.\")\n"
      ]
    },
    {
      "cell_type": "code",
      "execution_count": null,
      "metadata": {
        "id": "hnBthkYLurYw"
      },
      "outputs": [],
      "source": [
        "import os\n",
        "import torch\n",
        "import torchvision.transforms as transforms\n",
        "import torch.nn as nn\n",
        "import torch.optim as optim\n",
        "from torch.utils.data import DataLoader, Dataset\n",
        "from sklearn.metrics import accuracy_score, precision_score, recall_score, f1_score\n",
        "import matplotlib.pyplot as plt\n",
        "from torchvision import datasets, models\n",
        "from sklearn.metrics import confusion_matrix"
      ]
    },
    {
      "cell_type": "code",
      "execution_count": null,
      "metadata": {
        "colab": {
          "base_uri": "https://localhost:8080/"
        },
        "id": "RrlyY1tkzcnb",
        "outputId": "8703aab6-f0d0-490f-b2fd-1416b6bf3e5e"
      },
      "outputs": [
        {
          "output_type": "stream",
          "name": "stdout",
          "text": [
            "VisionTransformer(\n",
            "  (patch_embedding): Conv2d(3, 768, kernel_size=(16, 16), stride=(16, 16))\n",
            "  (transformer): TransformerEncoder(\n",
            "    (layers): ModuleList(\n",
            "      (0-11): 12 x TransformerEncoderLayer(\n",
            "        (self_attn): MultiheadAttention(\n",
            "          (out_proj): NonDynamicallyQuantizableLinear(in_features=768, out_features=768, bias=True)\n",
            "        )\n",
            "        (linear1): Linear(in_features=768, out_features=2048, bias=True)\n",
            "        (dropout): Dropout(p=0.1, inplace=False)\n",
            "        (linear2): Linear(in_features=2048, out_features=768, bias=True)\n",
            "        (norm1): LayerNorm((768,), eps=1e-05, elementwise_affine=True)\n",
            "        (norm2): LayerNorm((768,), eps=1e-05, elementwise_affine=True)\n",
            "        (dropout1): Dropout(p=0.1, inplace=False)\n",
            "        (dropout2): Dropout(p=0.1, inplace=False)\n",
            "      )\n",
            "    )\n",
            "  )\n",
            "  (fc): Linear(in_features=768, out_features=2, bias=True)\n",
            ")\n"
          ]
        },
        {
          "output_type": "stream",
          "name": "stderr",
          "text": [
            "/usr/local/lib/python3.10/dist-packages/torch/nn/modules/transformer.py:286: UserWarning: enable_nested_tensor is True, but self.use_nested_tensor is False because encoder_layer.self_attn.batch_first was not True(use batch_first for better inference performance)\n",
            "  warnings.warn(f\"enable_nested_tensor is True, but self.use_nested_tensor is False because {why_not_sparsity_fast_path}\")\n"
          ]
        }
      ],
      "source": [
        "# Define paths to your datasets\n",
        "train_dir = \"Smoker Detection/Training\"\n",
        "val_dir = \"Smoker Detection/Validation\"\n",
        "test_dir = \"Smoker Detection/Testing\"\n",
        "\n",
        "# Define transformation to be applied to the images\n",
        "transform = transforms.Compose([\n",
        "    transforms.Resize((224, 224)),  # Resize images to 224x224\n",
        "    transforms.ToTensor(),  # Convert images to PyTorch tensors\n",
        "    transforms.Normalize(mean=[0.485, 0.456, 0.406], std=[0.229, 0.224, 0.225])  # Normalize images\n",
        "])\n",
        "\n",
        "# Define function to extract label from file name\n",
        "def extract_label(filename):\n",
        "    if \"nonsmoker\" in filename:\n",
        "        return 0\n",
        "    else:\n",
        "        return 1\n",
        "\n",
        "# Define custom dataset class to extract labels from file names\n",
        "class CustomDataset(Dataset):\n",
        "    def __init__(self, root_dir, transform=None, target_transform=None):\n",
        "        self.root_dir = root_dir\n",
        "        self.transform = transform\n",
        "        self.target_transform = target_transform\n",
        "        self.file_names = os.listdir(root_dir)\n",
        "\n",
        "    def __len__(self):\n",
        "        return len(self.file_names)\n",
        "\n",
        "    def __getitem__(self, idx):\n",
        "        img_name = os.path.join(self.root_dir, self.file_names[idx])\n",
        "        image = datasets.folder.default_loader(img_name)  # Load image using torchvision\n",
        "        label = extract_label(self.file_names[idx])\n",
        "        if self.transform:\n",
        "            image = self.transform(image)\n",
        "        if self.target_transform:\n",
        "            label = self.target_transform(label)\n",
        "        return image, label\n",
        "\n",
        "# Create custom datasets\n",
        "train_dataset = CustomDataset(train_dir, transform=transform, target_transform=torch.tensor)\n",
        "val_dataset = CustomDataset(val_dir, transform=transform, target_transform=torch.tensor)\n",
        "test_dataset = CustomDataset(test_dir, transform=transform, target_transform=torch.tensor)\n",
        "\n",
        "# Define data loaders\n",
        "batch_size = 32\n",
        "train_loader = DataLoader(train_dataset, batch_size=batch_size, shuffle=True)\n",
        "val_loader = DataLoader(val_dataset, batch_size=batch_size)\n",
        "test_loader = DataLoader(test_dataset, batch_size=batch_size)\n",
        "\n",
        "# Define Vision Transformer model\n",
        "class VisionTransformer(nn.Module):\n",
        "    def __init__(self, image_size=224, patch_size=16, num_classes=2, dim=768, depth=12, heads=12, mlp_dim=3072, dropout=0.1):\n",
        "        super(VisionTransformer, self).__init__()\n",
        "        num_patches = (image_size // patch_size) ** 2\n",
        "        self.patch_size = patch_size\n",
        "        self.cls_token = nn.Parameter(torch.randn(1, 1, dim))\n",
        "        self.patch_embedding = nn.Conv2d(3, dim, kernel_size=patch_size, stride=patch_size)\n",
        "        self.positional_embedding = nn.Parameter(torch.randn(1, num_patches + 1, dim))\n",
        "        self.transformer = nn.TransformerEncoder(nn.TransformerEncoderLayer(d_model=dim, nhead=heads), num_layers=depth)\n",
        "        self.fc = nn.Linear(dim, num_classes)\n",
        "\n",
        "    def forward(self, x):\n",
        "        B, C, H, W = x.shape\n",
        "        assert H == W == 224, 'Image size must be 224x224'\n",
        "        x = self.patch_embedding(x).flatten(2).transpose(1, 2)\n",
        "        cls_tokens = self.cls_token.expand(B, -1, -1)\n",
        "        x = torch.cat((cls_tokens, x), dim=1)\n",
        "        x += self.positional_embedding[:, :(x.shape[1])]\n",
        "        x = self.transformer(x)\n",
        "        x = x.mean(dim=1)\n",
        "        x = self.fc(x)\n",
        "        return x\n",
        "\n",
        "\n",
        "\n",
        "# Initialize the model\n",
        "model = VisionTransformer(image_size=224, patch_size=16, num_classes=2, dim=768, depth=12, heads=12, mlp_dim=3072, dropout=0.1)\n",
        "\n",
        "# Print the model architecture\n",
        "print(model)\n"
      ]
    },
    {
      "cell_type": "code",
      "execution_count": null,
      "metadata": {
        "id": "FOFxn3DxH9CL"
      },
      "outputs": [],
      "source": [
        "# Step 3: Train the model\n",
        "\n",
        "def train_model(model, train_loader, val_loader, criterion, optimizer, num_epochs=5):\n",
        "    train_losses = []\n",
        "    val_losses = []\n",
        "    for epoch in range(num_epochs):\n",
        "        model.train()\n",
        "        train_loss = 0.0\n",
        "        for images, labels in train_loader:\n",
        "            images, labels = images.to(device), labels.to(device)\n",
        "\n",
        "            optimizer.zero_grad()\n",
        "            outputs = model(images)\n",
        "            loss = criterion(outputs, labels)\n",
        "            loss.backward()\n",
        "            optimizer.step()\n",
        "\n",
        "            train_loss += loss.item() * images.size(0)\n",
        "\n",
        "        train_loss /= len(train_loader.dataset)\n",
        "        train_losses.append(train_loss)\n",
        "\n",
        "        val_loss, val_accuracy = evaluate_model(model, val_loader, criterion)\n",
        "        val_losses.append(val_loss)\n",
        "\n",
        "        print(f'Epoch {epoch+1}/{num_epochs}, Train Loss: {train_loss:.4f}, Val Loss: {val_loss:.4f}, Val Accuracy: {val_accuracy:.4f}')\n",
        "\n",
        "    return model, train_losses, val_losses\n",
        "\n",
        "def evaluate_model(model, dataloader, criterion):\n",
        "    model.eval()\n",
        "    val_loss = 0.0\n",
        "    all_labels = []\n",
        "    all_predictions = []\n",
        "\n",
        "    with torch.no_grad():\n",
        "        for images, labels in dataloader:\n",
        "            images, labels = images.to(device), labels.to(device)\n",
        "\n",
        "            outputs = model(images)\n",
        "            loss = criterion(outputs, labels)\n",
        "            val_loss += loss.item() * images.size(0)\n",
        "\n",
        "            _, preds = torch.max(outputs, 1)\n",
        "            all_labels.extend(labels.cpu().numpy())\n",
        "            all_predictions.extend(preds.cpu().numpy())\n",
        "\n",
        "    val_loss /= len(dataloader.dataset)\n",
        "    val_accuracy = accuracy_score(all_labels, all_predictions)\n",
        "\n",
        "    return val_loss, val_accuracy\n",
        "\n",
        "# Step 4: Evaluate the model on the test set\n",
        "\n",
        "def test_model(model, test_loader):\n",
        "    model.eval()\n",
        "    test_loss = 0.0\n",
        "    correct = 0\n",
        "    total = 0\n",
        "    all_labels = []\n",
        "    all_predictions = []\n",
        "\n",
        "    with torch.no_grad():\n",
        "        for inputs, labels in test_loader:\n",
        "            inputs, labels = inputs.to(device), labels.to(device)\n",
        "            outputs = model(inputs)\n",
        "            loss = criterion(outputs, labels)\n",
        "            test_loss += loss.item() * inputs.size(0)\n",
        "            _, predicted = torch.max(outputs, 1)\n",
        "            total += labels.size(0)\n",
        "            correct += (predicted == labels).sum().item()\n",
        "            all_labels.extend(labels.cpu().numpy())\n",
        "            all_predictions.extend(predicted.cpu().numpy())\n",
        "\n",
        "    accuracy = correct / total\n",
        "    test_loss /= len(test_loader.dataset)\n",
        "    print(f'Test Loss: {test_loss:.4f}, Test Accuracy: {accuracy:.4f}')\n",
        "\n",
        "    # Calculate additional metrics\n",
        "    precision = precision_score(all_labels, all_predictions)\n",
        "    recall = recall_score(all_labels, all_predictions)\n",
        "    f1 = f1_score(all_labels, all_predictions)\n",
        "    cm = confusion_matrix(all_labels, all_predictions)\n",
        "\n",
        "    print(f'Precision: {precision:.4f}, Recall: {recall:.4f}, F1 Score: {f1:.4f}')\n",
        "    print('Confusion Matrix:')\n",
        "    print(cm)\n",
        "\n",
        "# Step 5: Print and plot metrics\n",
        "\n",
        "def plot_metrics(train_losses, val_losses):\n",
        "    plt.plot(train_losses, label='Train Loss')\n",
        "    plt.plot(val_losses, label='Validation Loss')\n",
        "    plt.xlabel('Epoch')\n",
        "    plt.ylabel('Loss')\n",
        "    plt.legend()\n",
        "    plt.show()"
      ]
    },
    {
      "cell_type": "code",
      "execution_count": null,
      "metadata": {
        "colab": {
          "base_uri": "https://localhost:8080/"
        },
        "id": "cJsJ6IPZVrfL",
        "outputId": "c2970dfa-b53b-444f-e37d-7ea44cd4b61b"
      },
      "outputs": [
        {
          "output_type": "stream",
          "name": "stdout",
          "text": [
            "Epoch 1/5, Train Loss: 0.0567, Val Loss: 0.0000, Val Accuracy: 1.0000\n",
            "Epoch 2/5, Train Loss: 0.0000, Val Loss: 0.0000, Val Accuracy: 1.0000\n",
            "Epoch 3/5, Train Loss: 0.0000, Val Loss: 0.0000, Val Accuracy: 1.0000\n",
            "Epoch 4/5, Train Loss: 0.0000, Val Loss: 0.0000, Val Accuracy: 1.0000\n",
            "Epoch 5/5, Train Loss: 0.0000, Val Loss: 0.0000, Val Accuracy: 1.0000\n"
          ]
        }
      ],
      "source": [
        "# Define hyperparameters\n",
        "BATCH_SIZE = 16\n",
        "LEARNING_RATE = 2e-5\n",
        "NUM_EPOCHS = 5\n",
        "\n",
        "device = torch.device(\"cuda\" if torch.cuda.is_available() else \"cpu\")\n",
        "model.to(device)\n",
        "\n",
        "criterion = nn.CrossEntropyLoss()\n",
        "optimizer = optim.AdamW(model.parameters(), lr=LEARNING_RATE)\n",
        "\n",
        "# Train the model\n",
        "trained_model, train_losses, val_losses = train_model(model, train_loader, val_loader, criterion, optimizer, num_epochs=NUM_EPOCHS)\n"
      ]
    },
    {
      "cell_type": "code",
      "execution_count": null,
      "metadata": {
        "colab": {
          "base_uri": "https://localhost:8080/"
        },
        "id": "AwLYpJ8pdhLv",
        "outputId": "b2547345-be57-4256-e599-32c78562f523"
      },
      "outputs": [
        {
          "output_type": "stream",
          "name": "stdout",
          "text": [
            "Test Loss: 0.0000, Test Accuracy: 1.0000\n",
            "Precision: 1.0000, Recall: 1.0000, F1 Score: 1.0000\n",
            "Confusion Matrix:\n",
            "[[224]]\n"
          ]
        },
        {
          "output_type": "display_data",
          "data": {
            "text/plain": [
              "<Figure size 640x480 with 1 Axes>"
            ],
            "image/png": "[encoded data removed]"
          },
          "metadata": {}
        }
      ],
      "source": [
        "# Evaluate on test set\n",
        "test_model(trained_model, test_loader)\n",
        "\n",
        "# Plot training and validation loss\n",
        "plot_metrics(train_losses, val_losses)"
      ]
    },
    {
      "cell_type": "code",
      "execution_count": null,
      "metadata": {
        "colab": {
          "base_uri": "https://localhost:8080/"
        },
        "id": "YnpvLuXydubm",
        "outputId": "5d692981-b518-427f-a5ae-fe5b83d6d128"
      },
      "outputs": [
        {
          "output_type": "stream",
          "name": "stdout",
          "text": [
            "Size of train dataset: 716\n",
            "Size of validation dataset: 180\n",
            "Size of test dataset: 224\n"
          ]
        }
      ],
      "source": [
        "print(\"Size of train dataset:\", len(train_dataset))\n",
        "print(\"Size of validation dataset:\", len(val_dataset))\n",
        "print(\"Size of test dataset:\", len(test_dataset))\n"
      ]
    }
  ],
  "metadata": {
    "accelerator": "GPU",
    "colab": {
      "gpuType": "T4",
      "provenance": [],
      "include_colab_link": true
    },
    "kernelspec": {
      "display_name": "Python 3",
      "name": "python3"
    },
    "language_info": {
      "name": "python"
    }
  },
  "nbformat": 4,
  "nbformat_minor": 0
}