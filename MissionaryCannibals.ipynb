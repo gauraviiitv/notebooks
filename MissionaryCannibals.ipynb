{
  "nbformat": 4,
  "nbformat_minor": 0,
  "metadata": {
    "colab": {
      "provenance": []
    },
    "kernelspec": {
      "name": "python3",
      "display_name": "Python 3"
    },
    "language_info": {
      "name": "python"
    }
  },
  "cells": [
    {
      "cell_type": "code",
      "execution_count": 1,
      "metadata": {
        "id": "QuunR_HaKDlq"
      },
      "outputs": [],
      "source": [
        "from collections import deque\n",
        "\n",
        "def is_valid_state(state, total_missionaries, total_cannibals):\n",
        "    start_missionaries, start_cannibals, end_missionaries, end_cannibals, boat = state\n",
        "\n",
        "    # Check if the state is within valid bounds\n",
        "    if not (0 <= start_missionaries <= total_missionaries and 0 <= start_cannibals <= total_cannibals):\n",
        "        return False\n",
        "    if not (0 <= end_missionaries <= total_missionaries and 0 <= end_cannibals <= total_cannibals):\n",
        "        return False\n",
        "\n",
        "    # Check if missionaries are safe on both sides\n",
        "    if start_missionaries > 0 and start_missionaries < start_cannibals:\n",
        "        return False\n",
        "    if end_missionaries > 0 and end_missionaries < end_cannibals:\n",
        "        return False\n",
        "\n",
        "    return True"
      ]
    },
    {
      "cell_type": "code",
      "source": [
        "def get_successors(state, total_missionaries, total_cannibals):\n",
        "    successors = []\n",
        "    start_missionaries, start_cannibals, end_missionaries, end_cannibals, boat = state\n",
        "\n",
        "    moves = [(1, 0), (2, 0), (0, 1), (0, 2), (1, 1)]\n",
        "\n",
        "    for m, c in moves:\n",
        "        if boat == 1:  # Boat on the starting side\n",
        "            new_state = (\n",
        "                start_missionaries - m, start_cannibals - c,\n",
        "                end_missionaries + m, end_cannibals + c, 0\n",
        "            )\n",
        "        else:  # Boat on the destination side\n",
        "            new_state = (\n",
        "                start_missionaries + m, start_cannibals + c,\n",
        "                end_missionaries - m, end_cannibals - c, 1\n",
        "            )\n",
        "\n",
        "        if is_valid_state(new_state, total_missionaries, total_cannibals):\n",
        "            successors.append(new_state)\n",
        "\n",
        "    return successors"
      ],
      "metadata": {
        "id": "gctwniYqKGSN"
      },
      "execution_count": 2,
      "outputs": []
    },
    {
      "cell_type": "code",
      "source": [
        "def bfs(initial_state, goal_state, total_missionaries, total_cannibals):\n",
        "    queue = deque([(initial_state, [initial_state])])\n",
        "    visited = set()\n",
        "\n",
        "    while queue:\n",
        "        current_state, path = queue.popleft()\n",
        "\n",
        "        if current_state == goal_state:\n",
        "            return path\n",
        "\n",
        "        if current_state in visited:\n",
        "            continue\n",
        "\n",
        "        visited.add(current_state)\n",
        "\n",
        "        for successor in get_successors(current_state, total_missionaries, total_cannibals):\n",
        "            if successor not in visited:\n",
        "                queue.append((successor, path + [successor]))\n",
        "\n",
        "    return None"
      ],
      "metadata": {
        "id": "TbWAUxgsKJr3"
      },
      "execution_count": 3,
      "outputs": []
    },
    {
      "cell_type": "code",
      "source": [
        "total_missionaries = 3  # Change the number of missionaries here\n",
        "total_cannibals = 3    # Change the number of cannibals here\n",
        "\n",
        "initial_state = (total_missionaries, total_cannibals, 0, 0, 1)  # (start_missionaries, start_cannibals, end_missionaries, end_cannibals, boat)\n",
        "goal_state = (0, 0, total_missionaries, total_cannibals, 0)      # All missionaries and cannibals moved to the destination side\n",
        "\n",
        "solution = bfs(initial_state, goal_state, total_missionaries, total_cannibals)\n",
        "\n",
        "if solution:\n",
        "    print(\"Solution found!\")\n",
        "    for step, state in enumerate(solution):\n",
        "        print(f\"Step {step}: {state}\")\n",
        "else:\n",
        "    print(\"No solution exists.\")"
      ],
      "metadata": {
        "colab": {
          "base_uri": "https://localhost:8080/"
        },
        "id": "3pMECahgKM6K",
        "outputId": "a8b91673-71df-4a50-ff78-05048018e81c"
      },
      "execution_count": 5,
      "outputs": [
        {
          "output_type": "stream",
          "name": "stdout",
          "text": [
            "Solution found!\n",
            "Step 0: (3, 3, 0, 0, 1)\n",
            "Step 1: (3, 1, 0, 2, 0)\n",
            "Step 2: (3, 2, 0, 1, 1)\n",
            "Step 3: (3, 0, 0, 3, 0)\n",
            "Step 4: (3, 1, 0, 2, 1)\n",
            "Step 5: (1, 1, 2, 2, 0)\n",
            "Step 6: (2, 2, 1, 1, 1)\n",
            "Step 7: (0, 2, 3, 1, 0)\n",
            "Step 8: (0, 3, 3, 0, 1)\n",
            "Step 9: (0, 1, 3, 2, 0)\n",
            "Step 10: (1, 1, 2, 2, 1)\n",
            "Step 11: (0, 0, 3, 3, 0)\n"
          ]
        }
      ]
    }
  ]
}